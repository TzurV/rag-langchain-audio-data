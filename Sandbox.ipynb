{
 "cells": [
  {
   "cell_type": "markdown",
   "id": "230dc994-81c5-4a93-80a2-84d1b6abfb6d",
   "metadata": {},
   "source": [
    "# test Whister\n",
    "\n",
    "Replaces AssemblyAI"
   ]
  },
  {
   "cell_type": "code",
   "execution_count": 1,
   "id": "fd39fb04-ced1-47ee-bd03-287542f71ddb",
   "metadata": {},
   "outputs": [],
   "source": [
    "from transformers import WhisperProcessor, WhisperForConditionalGeneration"
   ]
  },
  {
   "cell_type": "code",
   "execution_count": 2,
   "id": "00aa5302-6e41-4ac0-a419-f16b946f121c",
   "metadata": {
    "scrolled": true
   },
   "outputs": [],
   "source": [
    "# load model and processor\n",
    "#processor = WhisperProcessor.from_pretrained(\"openai/whisper-medium\")\n",
    "#model = WhisperForConditionalGeneration.from_pretrained(\"openai/whisper-medium\")"
   ]
  },
  {
   "cell_type": "code",
   "execution_count": 42,
   "id": "c87ef5a8-f48c-4294-8083-eed015efc08e",
   "metadata": {},
   "outputs": [
    {
     "name": "stdout",
     "output_type": "stream",
     "text": [
      "File name .\\shortTestRecording.wav, sample_rate=16000, duration=16.415 Sec\n"
     ]
    }
   ],
   "source": [
    "import librosa\n",
    "def load_audio_set_sample_rate(file_path):\n",
    "    # Load the WAV file using librosa\n",
    "    waveform, sample_rate = librosa.load(file_path, sr=None, mono=True)\n",
    "\n",
    "    if not sample_rate == 16000:\n",
    "        # Resample to 16kHz\n",
    "        tensor_waveform = librosa.resample(waveform, orig_sr=sample_rate, target_sr=16000)\n",
    "    else:\n",
    "        tensor_waveform = waveform\n",
    "\n",
    "    return tensor_waveform, 16000\n",
    "\n",
    "# Example usage\n",
    "file_path = r\".\\shortTestRecording.wav\"\n",
    "audio, sample_rate = load_audio_set_sample_rate(file_path)\n",
    "\n",
    "print(f\"File name {file_path}, {sample_rate=}, duration={audio.shape[0]/sample_rate} Sec\")"
   ]
  },
  {
   "cell_type": "code",
   "execution_count": 43,
   "id": "b7af249a-5577-4caa-b312-484dff3c5ee9",
   "metadata": {},
   "outputs": [
    {
     "name": "stdout",
     "output_type": "stream",
     "text": [
      "File name .\\langchain_agents_webinar.opus, sample_rate=16000, duration=3790.0535 Sec\n"
     ]
    }
   ],
   "source": [
    "# Example usage\n",
    "file_path = r\".\\langchain_agents_webinar.opus\"\n",
    "audio, sample_rate = load_audio_set_sample_rate(file_path)\n",
    "\n",
    "print(f\"File name {file_path}, {sample_rate=}, duration={audio.shape[0]/sample_rate} Sec\")"
   ]
  },
  {
   "cell_type": "code",
   "execution_count": 44,
   "id": "c2397e8a-2c7a-4f0d-98ec-cafa1f0fdff0",
   "metadata": {},
   "outputs": [
    {
     "name": "stdout",
     "output_type": "stream",
     "text": [
      "CPU times: total: 781 ms\n",
      "Wall time: 2.35 s\n"
     ]
    }
   ],
   "source": [
    "%%time\n",
    "# load model and processor\n",
    "\n",
    "#model_name = \"openai/whisper-medium\"\n",
    "model_name = \"openai/whisper-tiny\"\n",
    "processor = WhisperProcessor.from_pretrained(model_name)\n",
    "model = WhisperForConditionalGeneration.from_pretrained(model_name)"
   ]
  },
  {
   "cell_type": "code",
   "execution_count": 45,
   "id": "39664bbb-9660-4810-a531-ccce27642a4d",
   "metadata": {},
   "outputs": [
    {
     "name": "stdout",
     "output_type": "stream",
     "text": [
      "[\" Hello everyone. We're starting right on time because this is the most exciting webinar we've had yet. So this is the only webinar we've started on time so far, but it definitely deserves to be this one. We've got an absolutely packed webinar. Some awesome projects, some awesome people. And so we're going to have a really fun conversation. I'm going to hand it over to Charles very quickly. I just wanted to say, first of all, thank you everyone for joining.\"]\n",
      "CPU times: total: 4.14 s\n",
      "Wall time: 1.74 s\n"
     ]
    }
   ],
   "source": [
    "%%time\n",
    "\n",
    "input_features = processor(audio, sampling_rate=sample_rate, return_tensors=\"pt\").input_features \n",
    "\n",
    "# generate token ids\n",
    "predicted_ids = model.generate(input_features)\n",
    "# decode token ids to text\n",
    "transcription = processor.batch_decode(predicted_ids, skip_special_tokens=True, no_timestamps=False)\n",
    "print(transcription)"
   ]
  },
  {
   "cell_type": "code",
   "execution_count": 59,
   "id": "de6f6e40-8b5d-4f33-959b-9e55dbc68d79",
   "metadata": {},
   "outputs": [
    {
     "name": "stdout",
     "output_type": "stream",
     "text": [
      "total chunks 190\n"
     ]
    },
    {
     "data": {
      "application/vnd.jupyter.widget-view+json": {
       "model_id": "79675dcd2004483eb8defec5f65edf26",
       "version_major": 2,
       "version_minor": 0
      },
      "text/plain": [
       "  0%|          | 0/190 [00:00<?, ?it/s]"
      ]
     },
     "metadata": {},
     "output_type": "display_data"
    },
    {
     "name": "stdout",
     "output_type": "stream",
     "text": [
      "---\n"
     ]
    },
    {
     "ename": "AttributeError",
     "evalue": "'list' object has no attribute 'split'",
     "output_type": "error",
     "traceback": [
      "\u001b[1;31m---------------------------------------------------------------------------\u001b[0m",
      "\u001b[1;31mAttributeError\u001b[0m                            Traceback (most recent call last)",
      "File \u001b[1;32m<timed exec>:21\u001b[0m\n",
      "\u001b[1;31mAttributeError\u001b[0m: 'list' object has no attribute 'split'"
     ]
    }
   ],
   "source": [
    "%%time\n",
    "from tqdm.auto import tqdm\n",
    "\n",
    "# split audio into smaller chunks\n",
    "chunk_size = 16000*20 # 20 sec chunks\n",
    "chunks = [audio[i:i+chunk_size] for i in range(0, len(audio), chunk_size)]\n",
    "\n",
    "print(f\"total chunks {len(chunks)}\")\n",
    "\n",
    "transcriptions = []\n",
    "for index, chunk in enumerate(tqdm(chunks)):\n",
    "  input_features = processor(chunk, sampling_rate=16000, return_tensors=\"pt\").input_features\n",
    "\n",
    "  predicted_ids = model.generate(input_features)\n",
    "\n",
    "  transcription = processor.batch_decode(predicted_ids, skip_special_tokens=True)[0]\n",
    "  #print(index, transcription)\n",
    "  transcriptions.append(transcription)\n",
    "\n",
    "full_transcription = ' '.join(transcriptions)\n",
    "print(\"---\")\n",
    "print(f\"Text characters number: {len(full_transcription)} and number of words {len(full_transcription.split())}\")\n",
    "print(full_transcription)\n"
   ]
  },
  {
   "cell_type": "code",
   "execution_count": null,
   "id": "272f7fae-9aa3-4557-ab0f-687acd7d0f75",
   "metadata": {},
   "outputs": [],
   "source": [
    "print(\"---\")\n",
    "print(f\"Text characters number: {len(full_transcription)} and number of words {len(full_transcription.split())}\")\n",
    "print(full_transcription)"
   ]
  },
  {
   "cell_type": "code",
   "execution_count": null,
   "id": "ad6fd4a8-fc1a-49bb-bda6-188b912475b9",
   "metadata": {},
   "outputs": [],
   "source": [
    "## Original code with AssemblyAI results in list of transcripts in docs\n",
    "\n",
    "URLs = [\n",
    "    \"https://storage.googleapis.com/aai-web-samples/langchain_agents_webinar.opus\",\n",
    "    \"https://storage.googleapis.com/aai-web-samples/langchain_document_qna_webinar.opus\",\n",
    "    \"https://storage.googleapis.com/aai-web-samples/langchain_retrieval_webinar.opus\"\n",
    "]\n",
    "\n",
    "def create_docs(urls_list):\n",
    "    l = []\n",
    "    for url in urls_list:\n",
    "        print(f'Transcribing {url}')\n",
    "        l.append(AssemblyAIAudioTranscriptLoader(file_path=url).load()[0])\n",
    "    return l\n",
    "    \n",
    "docs = create_docs(URLs)"
   ]
  },
  {
   "cell_type": "code",
   "execution_count": null,
   "id": "7dcb6a6e-b1ce-4aca-a75a-bb50a0d9ab81",
   "metadata": {},
   "outputs": [],
   "source": [
    "# https://python.langchain.com/docs/modules/data_connection/document_loaders/\n",
    "from langchain.document_loaders import TextLoader\n",
    "\n",
    "loader = TextLoader(\"./longText.txt\")\n",
    "loader.load()"
   ]
  },
  {
   "cell_type": "markdown",
   "id": "e7874770-4194-4571-a81a-203b61fcd89c",
   "metadata": {},
   "source": [
    "## create a temporary directory for saving transcription into text files"
   ]
  },
  {
   "cell_type": "code",
   "execution_count": 79,
   "id": "013e51b7-6dea-4c75-8a72-2cf75a954cbe",
   "metadata": {},
   "outputs": [
    {
     "name": "stdout",
     "output_type": "stream",
     "text": [
      "String saved to: C:\\Users\\tzurv\\AppData\\Local\\Temp\\tmptxt_-2722020173369624531\\example.txt\n"
     ]
    }
   ],
   "source": [
    "import os\n",
    "import tempfile\n",
    "\n",
    "def create_temp_directory():\n",
    "    # Generate a random number for the directory name\n",
    "    random_number = str(hash(os.urandom(4)))\n",
    "    temp_dir_name = f\"tmptxt_{random_number}\"\n",
    "\n",
    "    # Create the temporary directory\n",
    "    temp_dir_path = os.path.join(tempfile.gettempdir(), temp_dir_name)\n",
    "    os.makedirs(temp_dir_path)\n",
    "\n",
    "    return temp_dir_path\n",
    "\n",
    "def write_string_to_file(directory, filename, content):\n",
    "    # Create the file path within the specified directory\n",
    "    file_path = os.path.join(directory, filename)\n",
    "\n",
    "    # Write the content to the file\n",
    "    with open(file_path, \"w\") as file:\n",
    "        file.write(content)\n",
    "\n",
    "# Example usage:\n",
    "temp_dir = create_temp_directory()\n",
    "string_to_save = \"This is some text to save to a file.\"\n",
    "file_name = \"example.txt\"\n",
    "write_string_to_file(temp_dir, file_name, full_transcription)\n",
    "\n",
    "print(f\"String saved to: {os.path.join(temp_dir, file_name)}\")"
   ]
  },
  {
   "cell_type": "code",
   "execution_count": 107,
   "id": "94aa2077-1c24-4471-9244-46822064b672",
   "metadata": {},
   "outputs": [],
   "source": [
    "# https://python.langchain.com/docs/modules/data_connection/document_loaders/\n",
    "from langchain.document_loaders import TextLoader\n",
    "\n",
    "loader = TextLoader(\"./longText.txt\")\n",
    "docs = loader.load()"
   ]
  },
  {
   "cell_type": "code",
   "execution_count": 109,
   "id": "c13ee0b5-7d2b-4546-8f8e-975f88865274",
   "metadata": {},
   "outputs": [
    {
     "name": "stdout",
     "output_type": "stream",
     "text": [
      "<class 'langchain.schema.document.Document'> <class 'langchain.schema.document.Document'>\n"
     ]
    }
   ],
   "source": [
    "print(type(docs[0]), type(docs[1]))"
   ]
  },
  {
   "cell_type": "code",
   "execution_count": 108,
   "id": "f27ee1c4-6290-4ece-a0b6-aa8633bff00f",
   "metadata": {},
   "outputs": [],
   "source": [
    "loader1 = TextLoader(r\"C:\\Users\\tzurv\\AppData\\Local\\Temp\\tmptxt_-2722020173369624531\\example.txt\")\n",
    "docs.append(loader1.load()[0])"
   ]
  },
  {
   "cell_type": "code",
   "execution_count": 110,
   "id": "44bb93ca-0a18-40ae-99a0-99cca8f9e2b6",
   "metadata": {},
   "outputs": [],
   "source": [
    "from langchain.text_splitter import RecursiveCharacterTextSplitter"
   ]
  },
  {
   "cell_type": "code",
   "execution_count": 111,
   "id": "31ce4131-68c9-4b97-9e3e-334141f7ed87",
   "metadata": {},
   "outputs": [],
   "source": [
    "text_splitter = RecursiveCharacterTextSplitter(chunk_size=1000, chunk_overlap=0)\n",
    "\n",
    "texts = text_splitter.split_documents(docs)"
   ]
  },
  {
   "cell_type": "code",
   "execution_count": 112,
   "id": "935b6df1-ae76-4d2e-94f1-2fe34d393833",
   "metadata": {},
   "outputs": [
    {
     "name": "stdout",
     "output_type": "stream",
     "text": [
      "<class 'langchain.schema.document.Document'> 118\n"
     ]
    }
   ],
   "source": [
    "print(type(texts[0]), len(texts))"
   ]
  },
  {
   "cell_type": "markdown",
   "id": "a36434ad-cb7f-44db-8ecb-f2a77891b7a5",
   "metadata": {},
   "source": [
    "# load audio"
   ]
  },
  {
   "cell_type": "code",
   "execution_count": 67,
   "id": "d0dd4de4-bc82-440a-bfd2-bd4c8a1b168c",
   "metadata": {},
   "outputs": [],
   "source": [
    "def whisper_transcribe(audio, *, sample_rate=16000):\n",
    "    input_features = processor(audio, sampling_rate=sample_rate, return_tensors=\"pt\").input_features \n",
    "    \n",
    "    # generate token ids\n",
    "    predicted_ids = model.generate(input_features)\n",
    "    # decode token ids to text\n",
    "    transcription = processor.batch_decode(predicted_ids, skip_special_tokens=True, no_timestamps=False)\n",
    "    return transcription"
   ]
  },
  {
   "cell_type": "code",
   "execution_count": 39,
   "id": "3862328c-7b8d-471e-be12-e55e39a287a5",
   "metadata": {},
   "outputs": [
    {
     "ename": "ValueError",
     "evalue": "The model corresponding to this feature extractor: WhisperFeatureExtractor was trained using a sampling rate of 16000. Please make sure that the provided `raw_speech` input was sampled with 16000 and not 48000.",
     "output_type": "error",
     "traceback": [
      "\u001b[1;31m---------------------------------------------------------------------------\u001b[0m",
      "\u001b[1;31mValueError\u001b[0m                                Traceback (most recent call last)",
      "File \u001b[1;32m<timed eval>:1\u001b[0m\n",
      "Cell \u001b[1;32mIn[38], line 2\u001b[0m, in \u001b[0;36mwhisper_transcribe\u001b[1;34m(audio, sample_rate)\u001b[0m\n\u001b[0;32m      1\u001b[0m \u001b[38;5;28;01mdef\u001b[39;00m \u001b[38;5;21mwhisper_transcribe\u001b[39m(audio, \u001b[38;5;241m*\u001b[39m, sample_rate\u001b[38;5;241m=\u001b[39m\u001b[38;5;241m16000\u001b[39m):\n\u001b[1;32m----> 2\u001b[0m     input_features \u001b[38;5;241m=\u001b[39m \u001b[43mprocessor\u001b[49m\u001b[43m(\u001b[49m\u001b[43maudio\u001b[49m\u001b[43m,\u001b[49m\u001b[43m \u001b[49m\u001b[43msampling_rate\u001b[49m\u001b[38;5;241;43m=\u001b[39;49m\u001b[43msample_rate\u001b[49m\u001b[43m,\u001b[49m\u001b[43m \u001b[49m\u001b[43mreturn_tensors\u001b[49m\u001b[38;5;241;43m=\u001b[39;49m\u001b[38;5;124;43m\"\u001b[39;49m\u001b[38;5;124;43mpt\u001b[39;49m\u001b[38;5;124;43m\"\u001b[39;49m\u001b[43m)\u001b[49m\u001b[38;5;241m.\u001b[39minput_features \n\u001b[0;32m      4\u001b[0m     \u001b[38;5;66;03m# generate token ids\u001b[39;00m\n\u001b[0;32m      5\u001b[0m     predicted_ids \u001b[38;5;241m=\u001b[39m model\u001b[38;5;241m.\u001b[39mgenerate(input_features)\n",
      "File \u001b[1;32m~\\.conda\\envs\\rag\\Lib\\site-packages\\transformers\\models\\whisper\\processing_whisper.py:69\u001b[0m, in \u001b[0;36mWhisperProcessor.__call__\u001b[1;34m(self, *args, **kwargs)\u001b[0m\n\u001b[0;32m     66\u001b[0m     \u001b[38;5;28;01mraise\u001b[39;00m \u001b[38;5;167;01mValueError\u001b[39;00m(\u001b[38;5;124m\"\u001b[39m\u001b[38;5;124mYou need to specify either an `audio` or `text` input to process.\u001b[39m\u001b[38;5;124m\"\u001b[39m)\n\u001b[0;32m     68\u001b[0m \u001b[38;5;28;01mif\u001b[39;00m audio \u001b[38;5;129;01mis\u001b[39;00m \u001b[38;5;129;01mnot\u001b[39;00m \u001b[38;5;28;01mNone\u001b[39;00m:\n\u001b[1;32m---> 69\u001b[0m     inputs \u001b[38;5;241m=\u001b[39m \u001b[38;5;28;43mself\u001b[39;49m\u001b[38;5;241;43m.\u001b[39;49m\u001b[43mfeature_extractor\u001b[49m\u001b[43m(\u001b[49m\u001b[43maudio\u001b[49m\u001b[43m,\u001b[49m\u001b[43m \u001b[49m\u001b[38;5;241;43m*\u001b[39;49m\u001b[43margs\u001b[49m\u001b[43m,\u001b[49m\u001b[43m \u001b[49m\u001b[43msampling_rate\u001b[49m\u001b[38;5;241;43m=\u001b[39;49m\u001b[43msampling_rate\u001b[49m\u001b[43m,\u001b[49m\u001b[43m \u001b[49m\u001b[38;5;241;43m*\u001b[39;49m\u001b[38;5;241;43m*\u001b[39;49m\u001b[43mkwargs\u001b[49m\u001b[43m)\u001b[49m\n\u001b[0;32m     70\u001b[0m \u001b[38;5;28;01mif\u001b[39;00m text \u001b[38;5;129;01mis\u001b[39;00m \u001b[38;5;129;01mnot\u001b[39;00m \u001b[38;5;28;01mNone\u001b[39;00m:\n\u001b[0;32m     71\u001b[0m     encodings \u001b[38;5;241m=\u001b[39m \u001b[38;5;28mself\u001b[39m\u001b[38;5;241m.\u001b[39mtokenizer(text, \u001b[38;5;241m*\u001b[39m\u001b[38;5;241m*\u001b[39mkwargs)\n",
      "File \u001b[1;32m~\\.conda\\envs\\rag\\Lib\\site-packages\\transformers\\models\\whisper\\feature_extraction_whisper.py:196\u001b[0m, in \u001b[0;36mWhisperFeatureExtractor.__call__\u001b[1;34m(self, raw_speech, truncation, pad_to_multiple_of, return_tensors, return_attention_mask, padding, max_length, sampling_rate, do_normalize, **kwargs)\u001b[0m\n\u001b[0;32m    194\u001b[0m \u001b[38;5;28;01mif\u001b[39;00m sampling_rate \u001b[38;5;129;01mis\u001b[39;00m \u001b[38;5;129;01mnot\u001b[39;00m \u001b[38;5;28;01mNone\u001b[39;00m:\n\u001b[0;32m    195\u001b[0m     \u001b[38;5;28;01mif\u001b[39;00m sampling_rate \u001b[38;5;241m!=\u001b[39m \u001b[38;5;28mself\u001b[39m\u001b[38;5;241m.\u001b[39msampling_rate:\n\u001b[1;32m--> 196\u001b[0m         \u001b[38;5;28;01mraise\u001b[39;00m \u001b[38;5;167;01mValueError\u001b[39;00m(\n\u001b[0;32m    197\u001b[0m             \u001b[38;5;124mf\u001b[39m\u001b[38;5;124m\"\u001b[39m\u001b[38;5;124mThe model corresponding to this feature extractor: \u001b[39m\u001b[38;5;132;01m{\u001b[39;00m\u001b[38;5;28mself\u001b[39m\u001b[38;5;241m.\u001b[39m\u001b[38;5;18m__class__\u001b[39m\u001b[38;5;241m.\u001b[39m\u001b[38;5;18m__name__\u001b[39m\u001b[38;5;132;01m}\u001b[39;00m\u001b[38;5;124m was trained using a\u001b[39m\u001b[38;5;124m\"\u001b[39m\n\u001b[0;32m    198\u001b[0m             \u001b[38;5;124mf\u001b[39m\u001b[38;5;124m\"\u001b[39m\u001b[38;5;124m sampling rate of \u001b[39m\u001b[38;5;132;01m{\u001b[39;00m\u001b[38;5;28mself\u001b[39m\u001b[38;5;241m.\u001b[39msampling_rate\u001b[38;5;132;01m}\u001b[39;00m\u001b[38;5;124m. Please make sure that the provided `raw_speech` input\u001b[39m\u001b[38;5;124m\"\u001b[39m\n\u001b[0;32m    199\u001b[0m             \u001b[38;5;124mf\u001b[39m\u001b[38;5;124m\"\u001b[39m\u001b[38;5;124m was sampled with \u001b[39m\u001b[38;5;132;01m{\u001b[39;00m\u001b[38;5;28mself\u001b[39m\u001b[38;5;241m.\u001b[39msampling_rate\u001b[38;5;132;01m}\u001b[39;00m\u001b[38;5;124m and not \u001b[39m\u001b[38;5;132;01m{\u001b[39;00msampling_rate\u001b[38;5;132;01m}\u001b[39;00m\u001b[38;5;124m.\u001b[39m\u001b[38;5;124m\"\u001b[39m\n\u001b[0;32m    200\u001b[0m         )\n\u001b[0;32m    201\u001b[0m \u001b[38;5;28;01melse\u001b[39;00m:\n\u001b[0;32m    202\u001b[0m     logger\u001b[38;5;241m.\u001b[39mwarning(\n\u001b[0;32m    203\u001b[0m         \u001b[38;5;124m\"\u001b[39m\u001b[38;5;124mIt is strongly recommended to pass the `sampling_rate` argument to this function. \u001b[39m\u001b[38;5;124m\"\u001b[39m\n\u001b[0;32m    204\u001b[0m         \u001b[38;5;124m\"\u001b[39m\u001b[38;5;124mFailing to do so can result in silent errors that might be hard to debug.\u001b[39m\u001b[38;5;124m\"\u001b[39m\n\u001b[0;32m    205\u001b[0m     )\n",
      "\u001b[1;31mValueError\u001b[0m: The model corresponding to this feature extractor: WhisperFeatureExtractor was trained using a sampling rate of 16000. Please make sure that the provided `raw_speech` input was sampled with 16000 and not 48000."
     ]
    }
   ],
   "source": [
    "%%time\n",
    "print(whisper_transcribe(audio, sample_rate=sample_rate))"
   ]
  },
  {
   "cell_type": "code",
   "execution_count": null,
   "id": "ee1f2dbb-acc4-4b0b-8a6e-2a91e23eb1ef",
   "metadata": {},
   "outputs": [],
   "source": [
    "import soundfile as sf\n",
    "# Download audio file from link\n",
    "url = \"https://storage.googleapis.com/aai-web-samples/langchain_agents_webinar.opus\"\n",
    "response = requests.get(url)\n",
    "\n",
    "# Convert response to NumPy array\n",
    "audio_bytes = BytesIO(response.content)\n",
    "\n",
    "data, samplerate = sf.read(audio_bytes.read())"
   ]
  },
  {
   "cell_type": "code",
   "execution_count": 7,
   "id": "36d4b798-912d-4142-b6cb-21e938f6567f",
   "metadata": {},
   "outputs": [
    {
     "name": "stdout",
     "output_type": "stream",
     "text": [
      "<class 'numpy.ndarray'>\n"
     ]
    }
   ],
   "source": [
    "import requests \n",
    "import numpy as np\n",
    "from io import BytesIO\n",
    "\n",
    "# Download audio file from link\n",
    "url = \"https://storage.googleapis.com/aai-web-samples/langchain_agents_webinar.opus\"\n",
    "response = requests.get(url)\n",
    "\n",
    "# Convert response to NumPy array\n",
    "audio_bytes = BytesIO(response.content)\n",
    "data = audio_bytes.read()\n",
    "\n",
    "# Round down to multiple of 2 \n",
    "buffer_size = len(data) - len(data) % 2 \n",
    "\n",
    "audio_array = np.frombuffer(data[:buffer_size], dtype=np.int16)\n",
    "\n",
    "print(type(audio_array))"
   ]
  },
  {
   "cell_type": "code",
   "execution_count": 21,
   "id": "3b8b15e0-1423-460c-a4dc-d19ecad1c350",
   "metadata": {},
   "outputs": [],
   "source": [
    "import librosa\n",
    "import soundfile as sf\n",
    "import requests\n",
    "from io import BytesIO\n",
    "\n",
    "# Download audio file from link\n",
    "url = \"https://storage.googleapis.com/aai-web-samples/langchain_agents_webinar.opus\"\n",
    "response = requests.get(url)\n",
    "\n",
    "# Convert response to BytesIO object\n",
    "audio_bytes = BytesIO(response.content)\n",
    "\n",
    "# Read audio using librosa\n",
    "y, sr = librosa.load(audio_bytes, sr=None)\n",
    "\n",
    "# Now, y is a numpy array containing the audio data, and sr is the sample rate.\n"
   ]
  },
  {
   "cell_type": "code",
   "execution_count": null,
   "id": "91ba32ff-e969-43db-beed-a10bf0c7e4de",
   "metadata": {},
   "outputs": [],
   "source": [
    "import soundfile as sf\n",
    "import requests\n",
    "from io import BytesIO\n",
    "\n",
    "# Download audio file from the link\n",
    "url = \"https://storage.googleapis.com/aai-web-samples/langchain_agents_webinar.opus\"\n",
    "response = requests.get(url, stream=True)\n",
    "\n",
    "# Create an empty list to store audio data\n",
    "data = []\n",
    "\n",
    "with BytesIO() as audio_bytes:\n",
    "    for chunk in response.iter_content(chunk_size=1024):\n",
    "        audio_bytes.write(chunk)\n",
    "        audio_bytes.seek(0)\n",
    "        partial_data, samplerate = sf.read(audio_bytes.read())\n",
    "        data.extend(partial_data)"
   ]
  },
  {
   "cell_type": "code",
   "execution_count": 36,
   "id": "90359ff1-7c74-49ea-b96c-152096e3380c",
   "metadata": {},
   "outputs": [
    {
     "name": "stdout",
     "output_type": "stream",
     "text": [
      "(181922568,) 48000\n"
     ]
    }
   ],
   "source": [
    "print(audio.shape, sample_rate)"
   ]
  },
  {
   "cell_type": "code",
   "execution_count": 32,
   "id": "20778d83-faa0-41f9-b8cf-b5501a1567c6",
   "metadata": {},
   "outputs": [
    {
     "data": {
      "image/png": "[encoded data removed]",
      "text/plain": [
       "<Figure size 640x480 with 1 Axes>"
      ]
     },
     "metadata": {},
     "output_type": "display_data"
    }
   ],
   "source": [
    "import matplotlib.pyplot as plt\n",
    "\n",
    "# Plot audio \n",
    "plt.plot(audio)\n",
    "plt.ylabel(\"Amplitude\")\n",
    "plt.xlabel(\"Sample\")\n",
    "plt.title(\"Audio Waveform\")\n",
    "plt.show()\n"
   ]
  }
 ],
 "metadata": {
  "kernelspec": {
   "display_name": "Python 3 (ipykernel)",
   "language": "python",
   "name": "python3"
  },
  "language_info": {
   "codemirror_mode": {
    "name": "ipython",
    "version": 3
   },
   "file_extension": ".py",
   "mimetype": "text/x-python",
   "name": "python",
   "nbconvert_exporter": "python",
   "pygments_lexer": "ipython3",
   "version": "3.11.5"
  }
 },
 "nbformat": 4,
 "nbformat_minor": 5
}
